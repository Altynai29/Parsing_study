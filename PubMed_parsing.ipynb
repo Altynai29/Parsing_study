{
  "nbformat": 4,
  "nbformat_minor": 0,
  "metadata": {
    "colab": {
      "provenance": [],
      "authorship_tag": "ABX9TyP3cJHSYXiync9RaL5HcqgZ",
      "include_colab_link": true
    },
    "kernelspec": {
      "name": "python3",
      "display_name": "Python 3"
    },
    "language_info": {
      "name": "python"
    }
  },
  "cells": [
    {
      "cell_type": "markdown",
      "metadata": {
        "id": "view-in-github",
        "colab_type": "text"
      },
      "source": [
        "<a href=\"https://colab.research.google.com/github/Altynai29/Parsing_study/blob/main/PubMed_parsing.ipynb\" target=\"_parent\"><img src=\"https://colab.research.google.com/assets/colab-badge.svg\" alt=\"Open In Colab\"/></a>"
      ]
    },
    {
      "cell_type": "code",
      "execution_count": 72,
      "metadata": {
        "id": "wRKJYD4N5Yzu"
      },
      "outputs": [],
      "source": [
        "import requests\n",
        "from bs4 import BeautifulSoup"
      ]
    },
    {
      "cell_type": "code",
      "source": [
        "url = 'https://pubmed.ncbi.nlm.nih.gov/?term=covid-19'"
      ],
      "metadata": {
        "id": "UiYHe9kf5pkh"
      },
      "execution_count": 100,
      "outputs": []
    },
    {
      "cell_type": "code",
      "source": [
        "response = requests.get(url)\n",
        "soup = BeautifulSoup(response.text, 'html.parser')"
      ],
      "metadata": {
        "id": "5iWIqesl5pRX"
      },
      "execution_count": 101,
      "outputs": []
    },
    {
      "cell_type": "code",
      "source": [
        "name_1 = soup.find('div', class_ = 'docsum-content').find('a').text.strip()\n",
        "name_1"
      ],
      "metadata": {
        "colab": {
          "base_uri": "https://localhost:8080/",
          "height": 36
        },
        "id": "c5g0zuhi8dcG",
        "outputId": "eb2c9940-2e5d-40c5-c5ba-f86d5b3eff6a"
      },
      "execution_count": 102,
      "outputs": [
        {
          "output_type": "execute_result",
          "data": {
            "text/plain": [
              "'Origin, transmission, diagnosis and management of coronavirus disease 2019 (COVID-19).'"
            ],
            "application/vnd.google.colaboratory.intrinsic+json": {
              "type": "string"
            }
          },
          "metadata": {},
          "execution_count": 102
        }
      ]
    },
    {
      "cell_type": "code",
      "source": [
        "link_1 = soup.find('div', class_ = 'docsum-content').find('a')['href']\n",
        "'https://pubmed.ncbi.nlm.nih.gov' + link_1"
      ],
      "metadata": {
        "colab": {
          "base_uri": "https://localhost:8080/",
          "height": 36
        },
        "id": "O56xTWxmWAUN",
        "outputId": "06af08a9-fa3d-4d9f-a3f4-f543fa9ab689"
      },
      "execution_count": 103,
      "outputs": [
        {
          "output_type": "execute_result",
          "data": {
            "text/plain": [
              "'https://pubmed.ncbi.nlm.nih.gov/32563999/'"
            ],
            "application/vnd.google.colaboratory.intrinsic+json": {
              "type": "string"
            }
          },
          "metadata": {},
          "execution_count": 103
        }
      ]
    },
    {
      "cell_type": "code",
      "source": [
        "soup.find('a', {'class': 'docsum-title', 'data-article-id':'32563999'}).text.strip()"
      ],
      "metadata": {
        "colab": {
          "base_uri": "https://localhost:8080/",
          "height": 36
        },
        "id": "Z5L0Q2geSwys",
        "outputId": "f61d8369-ff89-4917-c13b-f1601da20ad3"
      },
      "execution_count": 105,
      "outputs": [
        {
          "output_type": "execute_result",
          "data": {
            "text/plain": [
              "'Origin, transmission, diagnosis and management of coronavirus disease 2019 (COVID-19).'"
            ],
            "application/vnd.google.colaboratory.intrinsic+json": {
              "type": "string"
            }
          },
          "metadata": {},
          "execution_count": 105
        }
      ]
    },
    {
      "cell_type": "code",
      "source": [
        "name_link = []\n",
        "for i in soup.find_all('a', class_ = 'docsum-title'):\n",
        "  name = i.text.strip()\n",
        "  link = i['href']\n",
        "  name_link.append([name, 'https://pubmed.ncbi.nlm.nih.gov' + link])\n",
        "\n",
        ""
      ],
      "metadata": {
        "id": "Db-_23QA9Y3S"
      },
      "execution_count": 106,
      "outputs": []
    },
    {
      "cell_type": "code",
      "source": [
        "print(name_link)"
      ],
      "metadata": {
        "colab": {
          "base_uri": "https://localhost:8080/"
        },
        "id": "KM2VBVPqZvbv",
        "outputId": "41efd56d-9dbb-47ef-97de-b70dbbe7cd08"
      },
      "execution_count": 107,
      "outputs": [
        {
          "output_type": "stream",
          "name": "stdout",
          "text": [
            "[['Origin, transmission, diagnosis and management of coronavirus disease 2019 (COVID-19).', 'https://pubmed.ncbi.nlm.nih.gov/32563999/'], ['Recent Developments on Therapeutic and Diagnostic Approaches for COVID-19.', 'https://pubmed.ncbi.nlm.nih.gov/33400058/'], ['COVID-19 diagnosis -A review of current methods.', 'https://pubmed.ncbi.nlm.nih.gov/33126180/'], ['Emerging COVID-19 variants and their impact on SARS-CoV-2 diagnosis, therapeutics and vaccines.', 'https://pubmed.ncbi.nlm.nih.gov/35132910/'], ['Resolution of coronavirus disease 2019 (COVID-19).', 'https://pubmed.ncbi.nlm.nih.gov/32749914/'], ['COVID-19 pandemic: from origins to outcomes. A comprehensive review of viral pathogenesis, clinical manifestations, diagnostic evaluation, and management.', 'https://pubmed.ncbi.nlm.nih.gov/33664170/'], ['Tools and Techniques for Severe Acute Respiratory Syndrome Coronavirus 2 (SARS-CoV-2)/COVID-19 Detection.', 'https://pubmed.ncbi.nlm.nih.gov/33980687/'], ['Effectiveness of COVID-19 diagnosis and management tools: A review.', 'https://pubmed.ncbi.nlm.nih.gov/33008761/'], ['Detection technologies and recent developments in the diagnosis of COVID-19 infection.', 'https://pubmed.ncbi.nlm.nih.gov/33394144/'], ['Postvaccination COVID-19 among Healthcare Workers, Israel.', 'https://pubmed.ncbi.nlm.nih.gov/33522478/']]\n"
          ]
        }
      ]
    },
    {
      "cell_type": "code",
      "source": [
        "url = 'https://pubmed.ncbi.nlm.nih.gov/?term=covid-19&page=1'"
      ],
      "metadata": {
        "id": "79bG6PqSaeev"
      },
      "execution_count": 108,
      "outputs": []
    },
    {
      "cell_type": "code",
      "source": [
        "name_link = []\n",
        "for i in range(1, 5):\n",
        "  url = 'https://pubmed.ncbi.nlm.nih.gov/?term=covid-19&page' + str(i)\n",
        "  response = requests.get(url)\n",
        "  soup = BeautifulSoup(response.text, 'html.parser')\n",
        "\n",
        "  for i in soup.find_all('a', class_ = 'docsum-title'):\n",
        "    name = i.text.strip()\n",
        "    link = i['href']\n",
        "    name_link.append([name, 'https://pubmed.ncbi.nlm.nih.gov' + link])\n"
      ],
      "metadata": {
        "id": "T4SitRFDa5z2"
      },
      "execution_count": 137,
      "outputs": []
    },
    {
      "cell_type": "code",
      "source": [
        "name_link"
      ],
      "metadata": {
        "colab": {
          "base_uri": "https://localhost:8080/"
        },
        "id": "ZnK0q4KOb4O1",
        "outputId": "dece82a9-5ded-4286-bc09-a71ad818eb61"
      },
      "execution_count": 138,
      "outputs": [
        {
          "output_type": "execute_result",
          "data": {
            "text/plain": [
              "[['Origin, transmission, diagnosis and management of coronavirus disease 2019 (COVID-19).',\n",
              "  'https://pubmed.ncbi.nlm.nih.gov/32563999/'],\n",
              " ['Recent Developments on Therapeutic and Diagnostic Approaches for COVID-19.',\n",
              "  'https://pubmed.ncbi.nlm.nih.gov/33400058/'],\n",
              " ['COVID-19 diagnosis -A review of current methods.',\n",
              "  'https://pubmed.ncbi.nlm.nih.gov/33126180/'],\n",
              " ['Emerging COVID-19 variants and their impact on SARS-CoV-2 diagnosis, therapeutics and vaccines.',\n",
              "  'https://pubmed.ncbi.nlm.nih.gov/35132910/'],\n",
              " ['Resolution of coronavirus disease 2019 (COVID-19).',\n",
              "  'https://pubmed.ncbi.nlm.nih.gov/32749914/'],\n",
              " ['COVID-19 pandemic: from origins to outcomes. A comprehensive review of viral pathogenesis, clinical manifestations, diagnostic evaluation, and management.',\n",
              "  'https://pubmed.ncbi.nlm.nih.gov/33664170/'],\n",
              " ['Tools and Techniques for Severe Acute Respiratory Syndrome Coronavirus 2 (SARS-CoV-2)/COVID-19 Detection.',\n",
              "  'https://pubmed.ncbi.nlm.nih.gov/33980687/'],\n",
              " ['Effectiveness of COVID-19 diagnosis and management tools: A review.',\n",
              "  'https://pubmed.ncbi.nlm.nih.gov/33008761/'],\n",
              " ['Detection technologies and recent developments in the diagnosis of COVID-19 infection.',\n",
              "  'https://pubmed.ncbi.nlm.nih.gov/33394144/'],\n",
              " ['Postvaccination COVID-19 among Healthcare Workers, Israel.',\n",
              "  'https://pubmed.ncbi.nlm.nih.gov/33522478/'],\n",
              " ['Origin, transmission, diagnosis and management of coronavirus disease 2019 (COVID-19).',\n",
              "  'https://pubmed.ncbi.nlm.nih.gov/32563999/'],\n",
              " ['Recent Developments on Therapeutic and Diagnostic Approaches for COVID-19.',\n",
              "  'https://pubmed.ncbi.nlm.nih.gov/33400058/'],\n",
              " ['COVID-19 diagnosis -A review of current methods.',\n",
              "  'https://pubmed.ncbi.nlm.nih.gov/33126180/'],\n",
              " ['Emerging COVID-19 variants and their impact on SARS-CoV-2 diagnosis, therapeutics and vaccines.',\n",
              "  'https://pubmed.ncbi.nlm.nih.gov/35132910/'],\n",
              " ['Resolution of coronavirus disease 2019 (COVID-19).',\n",
              "  'https://pubmed.ncbi.nlm.nih.gov/32749914/'],\n",
              " ['COVID-19 pandemic: from origins to outcomes. A comprehensive review of viral pathogenesis, clinical manifestations, diagnostic evaluation, and management.',\n",
              "  'https://pubmed.ncbi.nlm.nih.gov/33664170/'],\n",
              " ['Tools and Techniques for Severe Acute Respiratory Syndrome Coronavirus 2 (SARS-CoV-2)/COVID-19 Detection.',\n",
              "  'https://pubmed.ncbi.nlm.nih.gov/33980687/'],\n",
              " ['Effectiveness of COVID-19 diagnosis and management tools: A review.',\n",
              "  'https://pubmed.ncbi.nlm.nih.gov/33008761/'],\n",
              " ['Detection technologies and recent developments in the diagnosis of COVID-19 infection.',\n",
              "  'https://pubmed.ncbi.nlm.nih.gov/33394144/'],\n",
              " ['Postvaccination COVID-19 among Healthcare Workers, Israel.',\n",
              "  'https://pubmed.ncbi.nlm.nih.gov/33522478/'],\n",
              " ['Origin, transmission, diagnosis and management of coronavirus disease 2019 (COVID-19).',\n",
              "  'https://pubmed.ncbi.nlm.nih.gov/32563999/'],\n",
              " ['Recent Developments on Therapeutic and Diagnostic Approaches for COVID-19.',\n",
              "  'https://pubmed.ncbi.nlm.nih.gov/33400058/'],\n",
              " ['COVID-19 diagnosis -A review of current methods.',\n",
              "  'https://pubmed.ncbi.nlm.nih.gov/33126180/'],\n",
              " ['Emerging COVID-19 variants and their impact on SARS-CoV-2 diagnosis, therapeutics and vaccines.',\n",
              "  'https://pubmed.ncbi.nlm.nih.gov/35132910/'],\n",
              " ['Resolution of coronavirus disease 2019 (COVID-19).',\n",
              "  'https://pubmed.ncbi.nlm.nih.gov/32749914/'],\n",
              " ['COVID-19 pandemic: from origins to outcomes. A comprehensive review of viral pathogenesis, clinical manifestations, diagnostic evaluation, and management.',\n",
              "  'https://pubmed.ncbi.nlm.nih.gov/33664170/'],\n",
              " ['Tools and Techniques for Severe Acute Respiratory Syndrome Coronavirus 2 (SARS-CoV-2)/COVID-19 Detection.',\n",
              "  'https://pubmed.ncbi.nlm.nih.gov/33980687/'],\n",
              " ['Effectiveness of COVID-19 diagnosis and management tools: A review.',\n",
              "  'https://pubmed.ncbi.nlm.nih.gov/33008761/'],\n",
              " ['Detection technologies and recent developments in the diagnosis of COVID-19 infection.',\n",
              "  'https://pubmed.ncbi.nlm.nih.gov/33394144/'],\n",
              " ['Postvaccination COVID-19 among Healthcare Workers, Israel.',\n",
              "  'https://pubmed.ncbi.nlm.nih.gov/33522478/'],\n",
              " ['Origin, transmission, diagnosis and management of coronavirus disease 2019 (COVID-19).',\n",
              "  'https://pubmed.ncbi.nlm.nih.gov/32563999/'],\n",
              " ['Recent Developments on Therapeutic and Diagnostic Approaches for COVID-19.',\n",
              "  'https://pubmed.ncbi.nlm.nih.gov/33400058/'],\n",
              " ['COVID-19 diagnosis -A review of current methods.',\n",
              "  'https://pubmed.ncbi.nlm.nih.gov/33126180/'],\n",
              " ['Emerging COVID-19 variants and their impact on SARS-CoV-2 diagnosis, therapeutics and vaccines.',\n",
              "  'https://pubmed.ncbi.nlm.nih.gov/35132910/'],\n",
              " ['Resolution of coronavirus disease 2019 (COVID-19).',\n",
              "  'https://pubmed.ncbi.nlm.nih.gov/32749914/'],\n",
              " ['COVID-19 pandemic: from origins to outcomes. A comprehensive review of viral pathogenesis, clinical manifestations, diagnostic evaluation, and management.',\n",
              "  'https://pubmed.ncbi.nlm.nih.gov/33664170/'],\n",
              " ['Tools and Techniques for Severe Acute Respiratory Syndrome Coronavirus 2 (SARS-CoV-2)/COVID-19 Detection.',\n",
              "  'https://pubmed.ncbi.nlm.nih.gov/33980687/'],\n",
              " ['Effectiveness of COVID-19 diagnosis and management tools: A review.',\n",
              "  'https://pubmed.ncbi.nlm.nih.gov/33008761/'],\n",
              " ['Detection technologies and recent developments in the diagnosis of COVID-19 infection.',\n",
              "  'https://pubmed.ncbi.nlm.nih.gov/33394144/'],\n",
              " ['Postvaccination COVID-19 among Healthcare Workers, Israel.',\n",
              "  'https://pubmed.ncbi.nlm.nih.gov/33522478/']]"
            ]
          },
          "metadata": {},
          "execution_count": 138
        }
      ]
    },
    {
      "cell_type": "code",
      "source": [
        "name_link[:3]"
      ],
      "metadata": {
        "colab": {
          "base_uri": "https://localhost:8080/"
        },
        "id": "7OxOuQT4cZCo",
        "outputId": "51e8e86e-23d9-478e-f6b0-384a0ad99e33"
      },
      "execution_count": 141,
      "outputs": [
        {
          "output_type": "execute_result",
          "data": {
            "text/plain": [
              "[['Origin, transmission, diagnosis and management of coronavirus disease 2019 (COVID-19).',\n",
              "  'https://pubmed.ncbi.nlm.nih.gov/32563999/',\n",
              "  'Coronavirus has emerged as a global health threat due to its accelerated geographic spread over the last two decades. This article reviews the current state of knowledge concerning the origin, transmission, diagnosis and management of coronavirus disease 2019 (COVID-19). Historically, it has caused two pandemics: severe acute respiratory syndrome and Middle East respiratory syndrome followed by the present COVID-19 that emerged from China. The virus is believed to be acquired from zoonotic source and spreads through direct and contact transmission. The symptomatic phase manifests with fever, cough and myalgia to severe respiratory failure. The diagnosis is confirmed using reverse transcriptase PCR. Management of COVID-19 is mainly by supportive therapy along with mechanical ventilation in severe cases. Preventive strategies form the major role in reducing the public spread of virus along with successful disease isolation and community containment. Development of a vaccine to eliminate the virus from the host still remains an ongoing challenge.'],\n",
              " ['Recent Developments on Therapeutic and Diagnostic Approaches for COVID-19.',\n",
              "  'https://pubmed.ncbi.nlm.nih.gov/33400058/',\n",
              "  'The ongoing pandemic of coronavirus disease 2019 (COVID-19) caused by the severe acute respiratory syndrome coronavirus 2 (SARS-CoV-2) has made a serious public health threat worldwide with millions of people at risk in a growing number of countries. Though there are no clinically approved antiviral drugs and vaccines for COVID-19, attempts are ongoing for clinical trials of several known antiviral drugs, their combination, as well as development of vaccines in patients with confirmed COVID-19. This review focuses on the latest approaches to diagnostics and therapy of COVID-19. We have summarized recent progress on the conventional therapeutics such as antiviral drugs, vaccines, anti-SARS-CoV-2 antibody treatments, and convalescent plasma therapy which are currently under extensive research and clinical trials for the treatment of COVID-19. The developments of nanoparticle-based therapeutic and diagnostic approaches have been also discussed for COVID-19. We have assessed recent literature data on this topic and made a summary of current development and future perspectives.'],\n",
              " ['COVID-19 diagnosis -A review of current methods.',\n",
              "  'https://pubmed.ncbi.nlm.nih.gov/33126180/',\n",
              "  'A fast and accurate self-testing tool for COVID-19 diagnosis has become a prerequisite to comprehend the exact number of cases worldwide and to take medical and governmental actions accordingly. SARS-CoV-2 (formerly, 2019-nCoV) infection was first reported in Wuhan (China) in December 2019, and then it has rapidly spread around the world, causing ~14 million active cases with ~582,000 deaths as of July 2020. The diagnosis tools available so far have been based on a) viral gene detection, b) human antibody detection, and c) viral antigen detection, among which the viral gene detection by RT-PCR has been found as the most reliable technique. In this report, the current SARS-CoV-2 detection kits, exclusively the ones that were issued an \"Emergency Use Authorization\" from the U.S. Food and Drug Administration, were discussed. The key structural components of the virus were presented to provide the audience with an understanding of the scientific principles behind the testing tools. The methods that are still in the early research state were also reviewed in a subsection based on the reports available so far.']]"
            ]
          },
          "metadata": {},
          "execution_count": 141
        }
      ]
    },
    {
      "cell_type": "code",
      "source": [
        "for i in name_link:\n",
        "  url = i[1]\n",
        "  response = requests.get(url)\n",
        "  soup = BeautifulSoup(response.text, 'html.parser')\n",
        "  i.append(soup.find('div', class_ = 'abstract').find('p').text.strip())"
      ],
      "metadata": {
        "id": "uZJctE5OdAZj"
      },
      "execution_count": 140,
      "outputs": []
    },
    {
      "cell_type": "code",
      "source": [],
      "metadata": {
        "id": "DS9-ob6Rj-LY"
      },
      "execution_count": null,
      "outputs": []
    }
  ]
}