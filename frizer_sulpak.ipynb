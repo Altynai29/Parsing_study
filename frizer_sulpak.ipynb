{
  "nbformat": 4,
  "nbformat_minor": 0,
  "metadata": {
    "colab": {
      "provenance": [],
      "authorship_tag": "ABX9TyMrCXcIUWvb8LT7MmUVSver"
    },
    "kernelspec": {
      "name": "python3",
      "display_name": "Python 3"
    },
    "language_info": {
      "name": "python"
    }
  },
  "cells": [
    {
      "cell_type": "code",
      "execution_count": null,
      "metadata": {
        "id": "u55dK4Fp-oGF"
      },
      "outputs": [],
      "source": [
        "import requests\n",
        "from bs4 import BeautifulSoup"
      ]
    },
    {
      "cell_type": "code",
      "source": [
        "url = 'https://www.sulpak.kg/g/holodilnik_haier_c2f636cfrg'"
      ],
      "metadata": {
        "id": "HMKzWgly-prH"
      },
      "execution_count": null,
      "outputs": []
    },
    {
      "cell_type": "code",
      "source": [
        "response = requests.get(url)"
      ],
      "metadata": {
        "id": "TwcCzG2l-pul"
      },
      "execution_count": null,
      "outputs": []
    },
    {
      "cell_type": "code",
      "source": [
        "soup = BeautifulSoup(response.text, 'html.parser')"
      ],
      "metadata": {
        "id": "q9_uKyItAs9m"
      },
      "execution_count": null,
      "outputs": []
    },
    {
      "cell_type": "markdown",
      "source": [
        "Name"
      ],
      "metadata": {
        "id": "cq4Yr9JjEcYd"
      }
    },
    {
      "cell_type": "code",
      "source": [
        "pr_name = soup.find('h1', class_ = 'title__xmedium').text"
      ],
      "metadata": {
        "id": "Ee8mDKt-BUPo"
      },
      "execution_count": null,
      "outputs": []
    },
    {
      "cell_type": "markdown",
      "source": [
        "Product Code"
      ],
      "metadata": {
        "id": "r3pv2qFQGQmv"
      }
    },
    {
      "cell_type": "code",
      "source": [
        "code = {soup.find('div', class_ = 'title__block-info').text.split(': ')[0]:\n",
        " soup.find('div', class_ = 'title__block-info').text.split(': ')[1]}\n",
        "code"
      ],
      "metadata": {
        "colab": {
          "base_uri": "https://localhost:8080/"
        },
        "id": "67gNfSn5EfBQ",
        "outputId": "75af369e-746d-4686-b61e-00241b330600"
      },
      "execution_count": null,
      "outputs": [
        {
          "output_type": "execute_result",
          "data": {
            "text/plain": [
              "{'Код товара': '69636'}"
            ]
          },
          "metadata": {},
          "execution_count": 33
        }
      ]
    },
    {
      "cell_type": "code",
      "source": [],
      "metadata": {
        "id": "F3K_knsgQt4d"
      },
      "execution_count": null,
      "outputs": []
    },
    {
      "cell_type": "markdown",
      "source": [
        "Price"
      ],
      "metadata": {
        "id": "SAWhkr-sGVe6"
      }
    },
    {
      "cell_type": "code",
      "source": [
        "soup.find('div', class_ = 'product__price').text"
      ],
      "metadata": {
        "colab": {
          "base_uri": "https://localhost:8080/",
          "height": 36
        },
        "id": "egfQVVPiGTsS",
        "outputId": "4b3b5f5d-115c-428e-9e93-5e2048f16aba"
      },
      "execution_count": null,
      "outputs": [
        {
          "output_type": "execute_result",
          "data": {
            "text/plain": [
              "'51 990 сом'"
            ],
            "application/vnd.google.colaboratory.intrinsic+json": {
              "type": "string"
            }
          },
          "metadata": {},
          "execution_count": 35
        }
      ]
    },
    {
      "cell_type": "markdown",
      "source": [
        "Image"
      ],
      "metadata": {
        "id": "LIbwjAzaH1Sq"
      }
    },
    {
      "cell_type": "code",
      "source": [
        "link = soup.find('img', class_ = 'img-full-width')['src']\n",
        "link"
      ],
      "metadata": {
        "colab": {
          "base_uri": "https://localhost:8080/",
          "height": 36
        },
        "id": "5F-TAOeMHYYJ",
        "outputId": "30b632c3-8484-41d2-8fd2-5e685d6b799a"
      },
      "execution_count": null,
      "outputs": [
        {
          "output_type": "execute_result",
          "data": {
            "text/plain": [
              "'https://object.pscloud.io/cms/cms/Uploads/30_430183.jpg'"
            ],
            "application/vnd.google.colaboratory.intrinsic+json": {
              "type": "string"
            }
          },
          "metadata": {},
          "execution_count": 39
        }
      ]
    },
    {
      "cell_type": "code",
      "source": [
        "!wget {link}"
      ],
      "metadata": {
        "colab": {
          "base_uri": "https://localhost:8080/"
        },
        "id": "vVudT6mmN01L",
        "outputId": "e3ba38de-4b6f-49cb-c95f-469b93501c7c"
      },
      "execution_count": null,
      "outputs": [
        {
          "output_type": "stream",
          "name": "stdout",
          "text": [
            "--2024-03-08 13:18:54--  https://object.pscloud.io/cms/cms/Uploads/30_430183.jpg\n",
            "Resolving object.pscloud.io (object.pscloud.io)... 194.39.66.20, 194.39.66.18, 194.39.66.19, ...\n",
            "Connecting to object.pscloud.io (object.pscloud.io)|194.39.66.20|:443... connected.\n",
            "HTTP request sent, awaiting response... 200 OK\n",
            "Length: 75513 (74K) [image/jpeg]\n",
            "Saving to: ‘30_430183.jpg’\n",
            "\n",
            "30_430183.jpg       100%[===================>]  73.74K   108KB/s    in 0.7s    \n",
            "\n",
            "2024-03-08 13:18:57 (108 KB/s) - ‘30_430183.jpg’ saved [75513/75513]\n",
            "\n"
          ]
        }
      ]
    },
    {
      "cell_type": "markdown",
      "source": [
        "Describing"
      ],
      "metadata": {
        "id": "fAqeJiJwPGp8"
      }
    },
    {
      "cell_type": "code",
      "source": [
        "soup.find('p', class_ = 'pad-mobile pad-top-10').text"
      ],
      "metadata": {
        "colab": {
          "base_uri": "https://localhost:8080/",
          "height": 53
        },
        "id": "N6YvpIBjOytm",
        "outputId": "9698e397-ab51-4469-de5a-35d3be4318cb"
      },
      "execution_count": null,
      "outputs": [
        {
          "output_type": "execute_result",
          "data": {
            "text/plain": [
              "'Турмалиновый антибактериальный модуль обеспечивает ионизацию и обеззараживание воздуха в холодильниках Haier. Это избавляет от неприятных запахов, обеспечивает более гигиеничное и, значит, более длительное хранение продуктов.'"
            ],
            "application/vnd.google.colaboratory.intrinsic+json": {
              "type": "string"
            }
          },
          "metadata": {},
          "execution_count": 47
        }
      ]
    },
    {
      "cell_type": "markdown",
      "source": [
        "Comments"
      ],
      "metadata": {
        "id": "F7BSE_KMSNSR"
      }
    },
    {
      "cell_type": "code",
      "source": [
        "for i in soup.find_all('div', class_ = 'product__reviews-comments-item-description'):\n",
        "  print(i.text)"
      ],
      "metadata": {
        "colab": {
          "base_uri": "https://localhost:8080/"
        },
        "id": "gMC3lgXVPLCb",
        "outputId": "1c591e5c-6b3b-4620-f140-7afdf38e6001"
      },
      "execution_count": null,
      "outputs": [
        {
          "output_type": "stream",
          "name": "stdout",
          "text": [
            "Отличный выбор холодильника Haier C2F636CFRG! Использую его уже несколько месяцев и впечатления только положительные. Просторное внутреннее пространство позволяет удобно хранить продукты любого размера. Особенно порадовала возможность регулировать температуру в зависимости от нужд - это действительно удобно. Также отмечу компактный дизайн и тихую работу холодильника - он идеально вписался в интерьер кухни. Рекомендую Haier C2F636CFRG для тех, кто ценит комфорт и надежность.\n",
            "холодильник стал незаменимой техникой в нашей кухне, я советую приобретать данную технику без раздумий, он очень вместительный,есть удобная полка под бутылки,также очень вместительная морозильная камера, стильный современный дизайн, и в работе очень тихо и бесшумно работает\n",
            "Этот холодильник стал незаменимым устройством в нашей кухне, и я с удовольствием поделюсь своими впечатлениями о нем.\n",
            "\n",
            "Холодильник обладает достаточным объемом для хранения продуктов нашей семьи. Разделение на зоны также очень удобно помогает организовать хранение.\n",
            "\n",
            "Мне нравится современный и стильный дизайн холодильника. Он прекрасно вписывается в интерьер кухни и придает ей элегантность.\n",
            "\n",
            "Внутреннее LED-освещение делает поиск продуктов внутри холодильника удобным, освещая все уголки равномерно.\n",
            "\n",
            "Холодильник поддерживает стабильную температуру, сохраняя продукты свежими на долгое время. Функция No Frost также избавляет от необходимости размораживать морозильное отделение.\n",
            "\n",
            " Один из плюсов этого холодильника - это тихая работа. Он не создает неприятных шумов и не мешает нашей повседневной жизни.\n",
            "\n",
            "Регулируемые полки и выдвижные ящики делают организацию хранения легкой задачей. Интуитивное управление на двери позволяет легко регулировать температуру и другие параметры.\n",
            "\n",
            "В целом, холодильник Haier C2F636CFRG оправдал наши ожидания и прекрасно выполняет свои функции. Он сочетает в себе стильный дизайн, высокую производительность и удобство использования, делая его отличным выбором для семей, ценящих качество и надежность.\n"
          ]
        }
      ]
    }
  ]
}